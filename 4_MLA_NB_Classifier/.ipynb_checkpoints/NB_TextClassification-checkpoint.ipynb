{
 "cells": [
  {
   "cell_type": "code",
   "execution_count": 1,
   "metadata": {},
   "outputs": [],
   "source": [
    "\n",
    "import numpy as np\n",
    "from matplotlib import pyplot as plt\n",
    "from sklearn.naive_bayes import GaussianNB\n",
    "from sklearn.datasets import fetch_20newsgroups\n",
    "from sklearn.feature_extraction.text import CountVectorizer\n",
    "from sklearn.feature_extraction.text import TfidfTransformer\n",
    "from sklearn.naive_bayes import MultinomialNB\n"
   ]
  },
  {
   "cell_type": "code",
   "execution_count": 2,
   "metadata": {},
   "outputs": [
    {
     "name": "stdout",
     "output_type": "stream",
     "text": [
      "'This has nothing to do with church or religion' --------> soc.religion.christian\n",
      "'Software engineering is getting hotter and hotter nowadays' --------> comp.graphics\n"
     ]
    }
   ],
   "source": [
    "\n",
    "categories = ['alt.atheism','soc.religion.christian','comp.graphics','sci.med']\n",
    "\n",
    "trainingData = fetch_20newsgroups(subset='train', categories=categories, shuffle=True, random_state=42)\n",
    "\n",
    "#print(\"\\n\".join(trainingData.data[1].split(\"\\n\")[:10]))\n",
    "#print(\"Target is:\", trainingData.target_names[trainingData.target[1]])\n",
    "\n",
    "# we just count the word occurances\n",
    "countVectorizer = CountVectorizer()\n",
    "xTrainCounts = countVectorizer.fit_transform(trainingData.data)\n",
    "#print countVectorizer.vocabulary_.get(u'software')\n",
    "\n",
    "# we transform the word occurances into tfidf \n",
    "tfidTransformer = TfidfTransformer()\n",
    "xTrainTfidf = tfidTransformer.fit_transform(xTrainCounts)\n",
    "\n",
    "model = MultinomialNB().fit(xTrainTfidf, trainingData.target)\n",
    "\n",
    "new = ['This has nothing to do with church or religion', 'Software engineering is getting hotter and hotter nowadays']\n",
    "xNewCounts = countVectorizer.transform(new)\n",
    "xNewTfidf = tfidTransformer.transform(xNewCounts)\n",
    "\n",
    "predicted = model.predict(xNewTfidf)\n",
    "\n",
    "for doc, category in zip(new,predicted):\n",
    "    print('%r --------> %s' % (doc, trainingData.target_names[category]))\n",
    "\n",
    "\n"
   ]
  },
  {
   "cell_type": "code",
   "execution_count": null,
   "metadata": {},
   "outputs": [],
   "source": []
  }
 ],
 "metadata": {
  "kernelspec": {
   "display_name": "Python 3",
   "language": "python",
   "name": "python3"
  },
  "language_info": {
   "codemirror_mode": {
    "name": "ipython",
    "version": 3
   },
   "file_extension": ".py",
   "mimetype": "text/x-python",
   "name": "python",
   "nbconvert_exporter": "python",
   "pygments_lexer": "ipython3",
   "version": "3.5.4"
  }
 },
 "nbformat": 4,
 "nbformat_minor": 2
}
