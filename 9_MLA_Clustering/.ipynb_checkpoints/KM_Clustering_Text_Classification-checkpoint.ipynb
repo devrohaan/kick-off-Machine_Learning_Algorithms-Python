{
 "cells": [
  {
   "cell_type": "code",
   "execution_count": 3,
   "metadata": {},
   "outputs": [],
   "source": [
    "\n",
    "import collections\n",
    "import nltk\n",
    "from nltk import word_tokenize\n",
    "from nltk.corpus import stopwords\n",
    "from nltk.stem import PorterStemmer\n",
    "from sklearn.cluster import KMeans\n",
    "from sklearn.feature_extraction.text import TfidfVectorizer\n",
    "from pprint import pprint\n"
   ]
  },
  {
   "cell_type": "code",
   "execution_count": 4,
   "metadata": {},
   "outputs": [],
   "source": [
    "\n",
    "def tokenizer(text):\n",
    "\t\ttokens = word_tokenize(text)\n",
    "\t\tstemmer = PorterStemmer() \n",
    "\t\ttokens = [stemmer.stem(t) for t in tokens if t not in stopwords.words('english')]\n",
    "\t\treturn tokens\n",
    "\n",
    "\n",
    "def cluster_sentences(sentences, nb_of_clusters=2): \n",
    "\n",
    "\t\t# create tf ifd again: stopwords-> we filter out common words (I,my, the, and...)\n",
    "\t\ttfidf_vectorizer = TfidfVectorizer(tokenizer=tokenizer, stop_words=stopwords.words('english'),lowercase=True)\n",
    "\t\t#builds a tf-idf matrix for the sentences\n",
    "\t\ttfidf_matrix = tfidf_vectorizer.fit_transform(sentences)\n",
    "\t\tkmeans = KMeans(n_clusters=nb_of_clusters)\n",
    "\t\tkmeans.fit(tfidf_matrix)\n",
    "\t\tclusters = collections.defaultdict(list)\n",
    "\t\tfor i, label in enumerate(kmeans.labels_):\n",
    "\t\t\tclusters[label].append(i)\n",
    "\t\treturn dict(clusters)\n",
    "\n",
    "\n",
    "\n"
   ]
  },
  {
   "cell_type": "code",
   "execution_count": 5,
   "metadata": {},
   "outputs": [
    {
     "name": "stdout",
     "output_type": "stream",
     "text": [
      "CLUSTER  0 :\n",
      "\tSENTENCE  0 :  Quantuum physics is quite important in science nowadays.\n",
      "\tSENTENCE  1 :  Software engineering is hotter and hotter topic in the silicon valley\n",
      "CLUSTER  1 :\n",
      "\tSENTENCE  0 :  Investing in stocks and trading with them are not that easy\n",
      "\tSENTENCE  1 :  FOREX is the stock market for trading currencies\n",
      "\tSENTENCE  2 :  Warren Buffet is famous for making good investments. He knows stock markets\n"
     ]
    }
   ],
   "source": [
    "if __name__ == \"__main__\":\n",
    "\t\tsentences = [\"Quantuum physics is quite important in science nowadays.\",\n",
    "\t\t\t\t\"Software engineering is hotter and hotter topic in the silicon valley\",\n",
    "\t\t\t\t\"Investing in stocks and trading with them are not that easy\",\n",
    "\t\t\t\t\"FOREX is the stock market for trading currencies\",\n",
    "\t\t\t\t\"Warren Buffet is famous for making good investments. He knows stock markets\"]\n",
    "\t\tnclusters= 2\n",
    "\t\tclusters = cluster_sentences(sentences, nclusters)\n",
    "\t\tfor cluster in range(nclusters):\n",
    "\t\t\t\tprint(\"CLUSTER \",cluster,\":\")\n",
    "\t\t\t\tfor i,sentence in enumerate(clusters[cluster]):\n",
    "\t\t\t\t\tprint(\"\\tSENTENCE \",i,\": \",sentences[sentence])\n"
   ]
  },
  {
   "cell_type": "code",
   "execution_count": null,
   "metadata": {},
   "outputs": [],
   "source": []
  }
 ],
 "metadata": {
  "kernelspec": {
   "display_name": "Python 3",
   "language": "python",
   "name": "python3"
  },
  "language_info": {
   "codemirror_mode": {
    "name": "ipython",
    "version": 3
   },
   "file_extension": ".py",
   "mimetype": "text/x-python",
   "name": "python",
   "nbconvert_exporter": "python",
   "pygments_lexer": "ipython3",
   "version": "3.5.4"
  }
 },
 "nbformat": 4,
 "nbformat_minor": 2
}
