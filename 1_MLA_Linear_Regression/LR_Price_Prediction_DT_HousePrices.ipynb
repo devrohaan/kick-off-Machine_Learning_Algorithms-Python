{
 "cells": [
  {
   "cell_type": "code",
   "execution_count": 1,
   "metadata": {},
   "outputs": [],
   "source": [
    "import numpy as np \n",
    "import pandas as pd \n",
    "import matplotlib.pyplot as plt \n",
    "from sklearn.linear_model import LinearRegression\n",
    "from sklearn.metrics import mean_squared_error \n",
    "import math"
   ]
  },
  {
   "cell_type": "code",
   "execution_count": 9,
   "metadata": {},
   "outputs": [
    {
     "name": "stdout",
     "output_type": "stream",
     "text": [
      "size data:  [[1180]\n",
      " [2570]]\n",
      "price data:  [[221900.]\n",
      " [538000.]]\n"
     ]
    }
   ],
   "source": [
    "dataset = pd.read_csv(\"/Users/Rohan/git/MLA/Datasets/house_prices.csv\")\n",
    "size=dataset['sqft_living']\n",
    "price=dataset['price']\n",
    "\n",
    "x = np.array(size).reshape(-1,1)\n",
    "y = np.array(price).reshape(-1,1)\n",
    "\n",
    "print(\"size data: \",x[:2])\n",
    "print(\"price data: \",y[:2])\n"
   ]
  },
  {
   "cell_type": "code",
   "execution_count": 10,
   "metadata": {},
   "outputs": [
    {
     "data": {
      "text/plain": [
       "LinearRegression(copy_X=True, fit_intercept=True, n_jobs=1, normalize=False)"
      ]
     },
     "execution_count": 10,
     "metadata": {},
     "output_type": "execute_result"
    }
   ],
   "source": [
    "\n",
    "#we use Linear Regression + fit() is the training\n",
    "model = LinearRegression()\n",
    "model.fit(x, y)\n"
   ]
  },
  {
   "cell_type": "code",
   "execution_count": 11,
   "metadata": {},
   "outputs": [
    {
     "name": "stdout",
     "output_type": "stream",
     "text": [
      "MSE:  650965.7788663033\n",
      "R squared value: 0.49285321790379316\n",
      "[280.6235679]\n",
      "-43580.743094473844\n"
     ]
    }
   ],
   "source": [
    "\n",
    "#MSE and R value\n",
    "regression_model_mse = mean_squared_error(x, y)\n",
    "print(\"MSE: \", math.sqrt(regression_model_mse))\n",
    "print(\"R squared value:\", model.score(x,y))\n",
    "\n",
    "#we can get the b values after the model fit\n",
    "#this is the b0\n",
    "print(model.coef_[0])\n",
    "#this is b1 in our model\n",
    "print(model.intercept_[0])\n"
   ]
  },
  {
   "cell_type": "code",
   "execution_count": 12,
   "metadata": {},
   "outputs": [
    {
     "data": {
      "image/png": "[encoded data removed]",
      "text/plain": [
       "<matplotlib.figure.Figure at 0x1a1ad81400>"
      ]
     },
     "metadata": {},
     "output_type": "display_data"
    },
    {
     "name": "stdout",
     "output_type": "stream",
     "text": [
      "Prediction by the model: [[517666.39270042]]\n"
     ]
    }
   ],
   "source": [
    "\n",
    "#visualize the dataset with the fitted model\n",
    "plt.scatter(x, y, color= 'red')\n",
    "plt.plot(x, model.predict(x), color = 'black')\n",
    "plt.title (\"Linear Regression\")\n",
    "plt.xlabel(\"Size\")\n",
    "plt.ylabel(\"Price\")\n",
    "plt.show()\n",
    "\n",
    "#Predicting the prices\n",
    "print(\"Prediction by the model:\" , model.predict([[2000]]))"
   ]
  },
  {
   "cell_type": "code",
   "execution_count": null,
   "metadata": {},
   "outputs": [],
   "source": []
  }
 ],
 "metadata": {
  "kernelspec": {
   "display_name": "Python 3",
   "language": "python",
   "name": "python3"
  },
  "language_info": {
   "codemirror_mode": {
    "name": "ipython",
    "version": 3
   },
   "file_extension": ".py",
   "mimetype": "text/x-python",
   "name": "python",
   "nbconvert_exporter": "python",
   "pygments_lexer": "ipython3",
   "version": "3.5.4"
  }
 },
 "nbformat": 4,
 "nbformat_minor": 2
}
