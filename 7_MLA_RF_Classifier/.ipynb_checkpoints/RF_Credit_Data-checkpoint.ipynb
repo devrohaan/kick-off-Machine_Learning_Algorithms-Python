{
 "cells": [
  {
   "cell_type": "code",
   "execution_count": 1,
   "metadata": {},
   "outputs": [
    {
     "name": "stderr",
     "output_type": "stream",
     "text": [
      "/Users/Rohan/Documents/Conda/anaconda3/envs/ChatbotVE/lib/python3.5/site-packages/sklearn/ensemble/weight_boosting.py:29: DeprecationWarning: numpy.core.umath_tests is an internal NumPy module and should not be imported. It will be removed in a future NumPy release.\n",
      "  from numpy.core.umath_tests import inner1d\n",
      "/Users/Rohan/Documents/Conda/anaconda3/envs/ChatbotVE/lib/python3.5/site-packages/sklearn/cross_validation.py:41: DeprecationWarning: This module was deprecated in version 0.18 in favor of the model_selection module into which all the refactored classes and functions are moved. Also note that the interface of the new CV iterators are different from that of this module. This module will be removed in 0.20.\n",
      "  \"This module will be removed in 0.20.\", DeprecationWarning)\n"
     ]
    }
   ],
   "source": [
    "\n",
    "import pandas as pd\n",
    "from sklearn.ensemble import RandomForestClassifier\n",
    "from sklearn.cross_validation import train_test_split\n",
    "from sklearn.metrics import confusion_matrix\n",
    "from sklearn.metrics import accuracy_score\n"
   ]
  },
  {
   "cell_type": "code",
   "execution_count": 2,
   "metadata": {},
   "outputs": [],
   "source": [
    "\n",
    "# Logistic regression accuracy: 93%\n",
    "# we do better with knn: 97.5% !!!!!!!!\n",
    "# 84% simple kNN without normalizing the dataset\n",
    "# we can achieve ~ 99% with random forests\n",
    "\n",
    "credit_data = pd.read_csv(\"/Users/Rohan/git/MLA/Datasets/credit_data.csv\")\n",
    "\n",
    "#print(credit_data.head())\n",
    "#print(credit_data.describe())\n",
    "#print(credit_data.corr())\n",
    "\n",
    "features = credit_data[[\"income\",\"age\",\"loan\"]]\n",
    "targets = credit_data.default\n"
   ]
  },
  {
   "cell_type": "code",
   "execution_count": 3,
   "metadata": {},
   "outputs": [
    {
     "name": "stdout",
     "output_type": "stream",
     "text": [
      "[[350   3]\n",
      " [  4  43]]\n",
      "0.9825\n"
     ]
    }
   ],
   "source": [
    "\n",
    "feature_train, feature_test, target_train, target_test = train_test_split(features, targets, test_size=.2)\n",
    "\n",
    "model = RandomForestClassifier(n_estimators=1000, max_features='sqrt')\n",
    "fitted_model = model.fit(feature_train, target_train)\n",
    "predictions = fitted_model.predict(feature_test)\n",
    "\n",
    "print(confusion_matrix(target_test, predictions))\n",
    "print(accuracy_score(target_test, predictions))"
   ]
  },
  {
   "cell_type": "code",
   "execution_count": null,
   "metadata": {},
   "outputs": [],
   "source": []
  }
 ],
 "metadata": {
  "kernelspec": {
   "display_name": "Python 3",
   "language": "python",
   "name": "python3"
  },
  "language_info": {
   "codemirror_mode": {
    "name": "ipython",
    "version": 3
   },
   "file_extension": ".py",
   "mimetype": "text/x-python",
   "name": "python",
   "nbconvert_exporter": "python",
   "pygments_lexer": "ipython3",
   "version": "3.5.4"
  }
 },
 "nbformat": 4,
 "nbformat_minor": 2
}
